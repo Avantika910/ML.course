{
  "nbformat": 4,
  "nbformat_minor": 0,
  "metadata": {
    "colab": {
      "name": "01_PerceptronTraining.ipynb",
      "provenance": [],
      "mount_file_id": "140a7lgy54iNWU4PPTbXgCnx1bNrJw8aB",
      "authorship_tag": "ABX9TyM9MaNBHAwtusjaQ9KwDw7/",
      "include_colab_link": true
    },
    "kernelspec": {
      "name": "python3",
      "display_name": "Python 3"
    },
    "language_info": {
      "name": "python"
    }
  },
  "cells": [
    {
      "cell_type": "markdown",
      "metadata": {
        "id": "view-in-github",
        "colab_type": "text"
      },
      "source": [
        "<a href=\"https://colab.research.google.com/github/Avantika910/ML.course/blob/main/01_PerceptronTraining.ipynb\" target=\"_parent\"><img src=\"https://colab.research.google.com/assets/colab-badge.svg\" alt=\"Open In Colab\"/></a>"
      ]
    },
    {
      "cell_type": "markdown",
      "metadata": {
        "id": "s9pRjPVCBVe1"
      },
      "source": [
        "**Date Created** : May 26, 2021\n",
        "\n",
        "Author: [Avantika Goyal](https://github.com/Avantika910)"
      ]
    },
    {
      "cell_type": "markdown",
      "metadata": {
        "id": "3Q6e_ed9CJ_r"
      },
      "source": [
        "# Problem Statement\n",
        "\n",
        "Train the model to learn the table of 10 \n",
        "\n",
        "Equation : `y=10*x`"
      ]
    },
    {
      "cell_type": "markdown",
      "metadata": {
        "id": "AaGIkVj7C_Nm"
      },
      "source": [
        "# Data Creation\n",
        "\n",
        "Equation: `y=10*x`\n",
        "\n",
        "Target -->\n",
        "\n",
        "```\n",
        "xTrain = [0, 1, 2, 3, 4. 5,.....]\n",
        "\n",
        "yTrain = [0, 10, 20, 30, 40, 50,....]\n",
        "```"
      ]
    },
    {
      "cell_type": "code",
      "metadata": {
        "colab": {
          "base_uri": "https://localhost:8080/"
        },
        "id": "lMy03BC2EKvc",
        "outputId": "ed2ee3ee-7ea8-4ca7-a7a2-d29c78bf8709"
      },
      "source": [
        "x = [i for i in range(21)]     #list comprehension\n",
        "print(x)"
      ],
      "execution_count": 1,
      "outputs": [
        {
          "output_type": "stream",
          "text": [
            "[0, 1, 2, 3, 4, 5, 6, 7, 8, 9, 10, 11, 12, 13, 14, 15, 16, 17, 18, 19, 20]\n"
          ],
          "name": "stdout"
        }
      ]
    },
    {
      "cell_type": "code",
      "metadata": {
        "colab": {
          "base_uri": "https://localhost:8080/"
        },
        "id": "Qf9ZCBE4FJBg",
        "outputId": "1d60d127-435b-4a48-aedb-97713ecbf473"
      },
      "source": [
        "y = [i for i in range(10*20+1) if i%10==0]\n",
        "print(y)"
      ],
      "execution_count": 2,
      "outputs": [
        {
          "output_type": "stream",
          "text": [
            "[0, 10, 20, 30, 40, 50, 60, 70, 80, 90, 100, 110, 120, 130, 140, 150, 160, 170, 180, 190, 200]\n"
          ],
          "name": "stdout"
        }
      ]
    },
    {
      "cell_type": "markdown",
      "metadata": {
        "id": "BQ9XOyfcHBOp"
      },
      "source": [
        "## Approach 1\n",
        "\n",
        "Defining a function for the equation `y= 10x`"
      ]
    },
    {
      "cell_type": "code",
      "metadata": {
        "colab": {
          "base_uri": "https://localhost:8080/"
        },
        "id": "L6t1t1g2HUA4",
        "outputId": "ede684c2-bb31-4451-924b-5d96ec5bc1a1"
      },
      "source": [
        "def tempFunc(x):\n",
        "  y= 10*x\n",
        "  return y\n",
        "\n",
        "for value in x:\n",
        "    print(tempFunc(value))"
      ],
      "execution_count": 3,
      "outputs": [
        {
          "output_type": "stream",
          "text": [
            "0\n",
            "10\n",
            "20\n",
            "30\n",
            "40\n",
            "50\n",
            "60\n",
            "70\n",
            "80\n",
            "90\n",
            "100\n",
            "110\n",
            "120\n",
            "130\n",
            "140\n",
            "150\n",
            "160\n",
            "170\n",
            "180\n",
            "190\n",
            "200\n"
          ],
          "name": "stdout"
        }
      ]
    },
    {
      "cell_type": "markdown",
      "metadata": {
        "id": "AaJU3_iuIVgi"
      },
      "source": [
        "## Approach 2\n",
        "\n",
        "I am super enthusiastic about ML so I'm gonna make a reduntant ML model for the table of 10\n",
        "\n",
        "You are going to need `x`, `y`, `xTest`, and `yTest` from the `xTrain` and `yTrain` lists"
      ]
    },
    {
      "cell_type": "code",
      "metadata": {
        "colab": {
          "base_uri": "https://localhost:8080/"
        },
        "id": "DEYg4QuLJii3",
        "outputId": "d78608d7-5cec-46ea-9e5b-e27b88bab4a1"
      },
      "source": [
        "print(f'This is xTrain: {x}')\n",
        "print(f'This is yTrain: {y}')"
      ],
      "execution_count": 4,
      "outputs": [
        {
          "output_type": "stream",
          "text": [
            "This is xTrain: [0, 1, 2, 3, 4, 5, 6, 7, 8, 9, 10, 11, 12, 13, 14, 15, 16, 17, 18, 19, 20]\n",
            "This is yTrain: [0, 10, 20, 30, 40, 50, 60, 70, 80, 90, 100, 110, 120, 130, 140, 150, 160, 170, 180, 190, 200]\n"
          ],
          "name": "stdout"
        }
      ]
    },
    {
      "cell_type": "code",
      "metadata": {
        "colab": {
          "base_uri": "https://localhost:8080/"
        },
        "id": "VISAejaIKLgT",
        "outputId": "d98f1e6d-dd7e-4b65-e622-f31d40b85277"
      },
      "source": [
        "xTrain = x[:-5]   #training data\n",
        "yTrain = y[:-5]   #training labels\n",
        "\n",
        "xTest = x[-5:]   #testing data\n",
        "yTest = y[-5:]   #testing labels\n",
        "\n",
        "print(f'''\n",
        "Training Data:\n",
        "\n",
        "xTrain : {xTrain}\n",
        "yTrain : {yTrain}\n",
        "\n",
        "Testing Data:\n",
        "\n",
        "xTest : {xTest}\n",
        "yTest : {yTest}\n",
        "''')"
      ],
      "execution_count": 7,
      "outputs": [
        {
          "output_type": "stream",
          "text": [
            "\n",
            "Training Data:\n",
            "\n",
            "xTrain : [0, 1, 2, 3, 4, 5, 6, 7, 8, 9, 10, 11, 12, 13, 14, 15]\n",
            "yTrain : [0, 10, 20, 30, 40, 50, 60, 70, 80, 90, 100, 110, 120, 130, 140, 150]\n",
            "\n",
            "Testing Data:\n",
            "\n",
            "xTest : [16, 17, 18, 19, 20]\n",
            "yTest : [160, 170, 180, 190, 200]\n",
            "\n"
          ],
          "name": "stdout"
        }
      ]
    },
    {
      "cell_type": "code",
      "metadata": {
        "id": "YxiCwTniw17E"
      },
      "source": [
        "import tensorflow as tf\n",
        "from tensorflow import keras"
      ],
      "execution_count": 9,
      "outputs": []
    },
    {
      "cell_type": "code",
      "metadata": {
        "id": "R-jzvnTdxX3O"
      },
      "source": [
        "#perceptron model\n",
        "model = tf.keras.Sequential([\n",
        "                             tf.keras.layers.Dense\n",
        "])"
      ],
      "execution_count": null,
      "outputs": []
    }
  ]
}