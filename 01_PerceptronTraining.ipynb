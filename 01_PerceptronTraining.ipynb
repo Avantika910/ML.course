{
  "nbformat": 4,
  "nbformat_minor": 0,
  "metadata": {
    "colab": {
      "name": "01_PerceptronTraining.ipynb",
      "provenance": [],
      "mount_file_id": "140a7lgy54iNWU4PPTbXgCnx1bNrJw8aB",
      "authorship_tag": "ABX9TyOP/ifWNk5YtGzKImagRwSE",
      "include_colab_link": true
    },
    "kernelspec": {
      "name": "python3",
      "display_name": "Python 3"
    },
    "language_info": {
      "name": "python"
    }
  },
  "cells": [
    {
      "cell_type": "markdown",
      "metadata": {
        "id": "view-in-github",
        "colab_type": "text"
      },
      "source": [
        "<a href=\"https://colab.research.google.com/github/Avantika910/ML.course/blob/main/01_PerceptronTraining.ipynb\" target=\"_parent\"><img src=\"https://colab.research.google.com/assets/colab-badge.svg\" alt=\"Open In Colab\"/></a>"
      ]
    },
    {
      "cell_type": "code",
      "metadata": {
        "colab": {
          "base_uri": "https://localhost:8080/"
        },
        "id": "h4a16E5QUJ3q",
        "outputId": "81ce2c6b-9801-49d0-eca6-5a3571e3c8ef"
      },
      "source": [
        "print('Hello World')"
      ],
      "execution_count": null,
      "outputs": [
        {
          "output_type": "stream",
          "text": [
            "Hello World\n"
          ],
          "name": "stdout"
        }
      ]
    },
    {
      "cell_type": "code",
      "metadata": {
        "colab": {
          "base_uri": "https://localhost:8080/"
        },
        "id": "BKDlMML19cIj",
        "outputId": "1896a876-e3ee-4f9a-bf59-534e6f04e7ef"
      },
      "source": [
        "cd '/content/drive/MyDrive/ml'"
      ],
      "execution_count": 2,
      "outputs": [
        {
          "output_type": "stream",
          "text": [
            "/content/drive/MyDrive/ml\n"
          ],
          "name": "stdout"
        }
      ]
    }
  ]
}